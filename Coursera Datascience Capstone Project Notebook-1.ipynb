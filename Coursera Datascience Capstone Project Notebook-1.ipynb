{
    "cells": [
        {
            "cell_type": "markdown",
            "metadata": {
                "collapsed": true
            },
            "source": "# Capstone Project Note Book"
        },
        {
            "cell_type": "markdown",
            "metadata": {},
            "source": "###  This notebook will be mainly used for the capstone project."
        },
        {
            "cell_type": "markdown",
            "metadata": {},
            "source": "#### In this lecture we will be going over the basics of the Jupyter (previously called iPython Notebooks)."
        },
        {
            "cell_type": "markdown",
            "metadata": {},
            "source": "# Applied Data Science Capstone"
        },
        {
            "cell_type": "markdown",
            "metadata": {},
            "source": "1. Introduction to Capstone Project"
        },
        {
            "cell_type": "markdown",
            "metadata": {},
            "source": "2. Foursquare API\n"
        },
        {
            "cell_type": "markdown",
            "metadata": {},
            "source": "3. Neighborhood Segmentation and Clustering\n\n"
        },
        {
            "cell_type": "markdown",
            "metadata": {},
            "source": "4. Capstone Project\n"
        },
        {
            "cell_type": "code",
            "execution_count": null,
            "metadata": {},
            "outputs": [],
            "source": "5.Capstone Project (Cont'd)"
        },
        {
            "cell_type": "code",
            "execution_count": null,
            "metadata": {},
            "outputs": [],
            "source": "import pandas as pd"
        },
        {
            "cell_type": "code",
            "execution_count": 3,
            "metadata": {},
            "outputs": [],
            "source": "import numpy as np"
        },
        {
            "cell_type": "code",
            "execution_count": 4,
            "metadata": {},
            "outputs": [
                {
                    "name": "stdout",
                    "output_type": "stream",
                    "text": "Hello Capstone Project Course!\n"
                }
            ],
            "source": "print('Hello Capstone Project Course!')"
        },
        {
            "cell_type": "code",
            "execution_count": null,
            "metadata": {},
            "outputs": [],
            "source": ""
        }
    ],
    "metadata": {
        "kernelspec": {
            "display_name": "Python 3.6",
            "language": "python",
            "name": "python3"
        },
        "language_info": {
            "codemirror_mode": {
                "name": "ipython",
                "version": 3
            },
            "file_extension": ".py",
            "mimetype": "text/x-python",
            "name": "python",
            "nbconvert_exporter": "python",
            "pygments_lexer": "ipython3",
            "version": "3.6.9"
        }
    },
    "nbformat": 4,
    "nbformat_minor": 1
}